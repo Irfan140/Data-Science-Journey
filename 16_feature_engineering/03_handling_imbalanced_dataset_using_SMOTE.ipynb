{
 "cells": [
  {
   "cell_type": "markdown",
   "id": "e79956e7-9154-4c8a-9387-01717309a994",
   "metadata": {},
   "source": [
    "## SMOTE(Synthetic Minority Oversampling Technique)\n",
    "SMOTE (Synthetic Minority Over-sampling Technique) is a technique used in machine learning to address imbalanced datasets where the minority class has significantly fewer instances than the majority class. SMOTE involves generating synthetic instances of the minority class by interpolating between existing instances."
   ]
  },
  {
   "cell_type": "code",
   "execution_count": 1,
   "id": "92e9a72c-1efe-4a61-b34d-7d3a65ac3d96",
   "metadata": {},
   "outputs": [],
   "source": [
    "from sklearn.datasets import make_classification\n",
    "# make_classification helps us to create binary or multi class classification dataset"
   ]
  },
  {
   "cell_type": "code",
   "execution_count": 2,
   "id": "3b6822d4-9644-4a54-81d7-44c6b1c7b76d",
   "metadata": {},
   "outputs": [],
   "source": [
    "X,y=make_classification(\n",
    "    n_samples=1000,\n",
    "    n_redundant=0,\n",
    "    n_features=2,\n",
    "    n_clusters_per_class=1,\n",
    "    weights=[0.90],\n",
    "    random_state=12\n",
    ")"
   ]
  },
  {
   "cell_type": "code",
   "execution_count": null,
   "id": "98cae9eb-bd9d-4bc7-8a30-addbe60c6b3e",
   "metadata": {},
   "outputs": [],
   "source": [
    "import pandas as pd\n",
    "df1=pd.DataFrame(X,columns=['f1','f2'])\n",
    "df2=pd.DataFrame(y,columns=['target'])\n",
    "final_df=pd.concat([df1,df2],axis=1)\n",
    "final_df.head()"
   ]
  },
  {
   "cell_type": "code",
   "execution_count": null,
   "id": "2558d887-b31e-4d2a-8a90-01907f26c07a",
   "metadata": {},
   "outputs": [],
   "source": [
    "final_df['target'].value_counts()"
   ]
  },
  {
   "cell_type": "code",
   "execution_count": null,
   "id": "d390a98d-debc-46ef-be52-3781a9a4eb18",
   "metadata": {},
   "outputs": [],
   "source": [
    "import matplotlib.pyplot as plt\n",
    "plt.scatter(final_df['f1'],final_df['f2'],c=final_df['target'])"
   ]
  },
  {
   "cell_type": "code",
   "execution_count": null,
   "id": "b8871434-8cc3-4409-a8d2-a965e95c56e3",
   "metadata": {},
   "outputs": [],
   "source": [
    "!pip install imblearn"
   ]
  },
  {
   "cell_type": "code",
   "execution_count": 7,
   "id": "6b23e6fb-37f7-4c98-8305-1efa5f56caa6",
   "metadata": {},
   "outputs": [],
   "source": [
    "from imblearn.over_sampling import SMOTE"
   ]
  },
  {
   "cell_type": "code",
   "execution_count": 8,
   "id": "358fe3f0-3c89-46ce-ad74-984fb52a01fe",
   "metadata": {},
   "outputs": [],
   "source": [
    "## transform the dataset\n",
    "oversample=SMOTE()\n",
    "X,y=oversample.fit_resample(final_df[['f1','f2']],final_df['target'])"
   ]
  },
  {
   "cell_type": "code",
   "execution_count": null,
   "id": "55d61931-9a81-4ea1-96b1-9c27d8185237",
   "metadata": {},
   "outputs": [],
   "source": [
    "X.shape"
   ]
  },
  {
   "cell_type": "code",
   "execution_count": null,
   "id": "93a3faa2-9b3c-4463-8138-a6e8fabcbb13",
   "metadata": {},
   "outputs": [],
   "source": [
    "y.shape"
   ]
  },
  {
   "cell_type": "code",
   "execution_count": null,
   "id": "673454fd-6252-4880-8d5d-b1fc2607c986",
   "metadata": {},
   "outputs": [],
   "source": [
    "len(y[y==0])"
   ]
  },
  {
   "cell_type": "code",
   "execution_count": null,
   "id": "8b1cf07c-01a9-4805-8a5e-8219e360095f",
   "metadata": {},
   "outputs": [],
   "source": [
    "len(y[y==1])"
   ]
  },
  {
   "cell_type": "code",
   "execution_count": 13,
   "id": "f21bb219-34c3-4f4f-9306-d0c97853ccec",
   "metadata": {},
   "outputs": [],
   "source": [
    "df1=pd.DataFrame(X,columns=['f1','f2'])\n",
    "df2=pd.DataFrame(y,columns=['target'])\n",
    "oversample_df=pd.concat([df1,df2],axis=1)"
   ]
  },
  {
   "cell_type": "code",
   "execution_count": null,
   "id": "05bb528d-6ad0-43d7-b4e5-ceee8bd0ac31",
   "metadata": {},
   "outputs": [],
   "source": [
    "plt.scatter(oversample_df['f1'],oversample_df['f2'],c=oversample_df['target'])"
   ]
  }
 ],
 "metadata": {
  "kernelspec": {
   "display_name": "Python 3",
   "language": "python",
   "name": "python3"
  },
  "language_info": {
   "codemirror_mode": {
    "name": "ipython",
    "version": 3
   },
   "file_extension": ".py",
   "mimetype": "text/x-python",
   "name": "python",
   "nbconvert_exporter": "python",
   "pygments_lexer": "ipython3",
   "version": "3.12.0"
  }
 },
 "nbformat": 4,
 "nbformat_minor": 5
}
