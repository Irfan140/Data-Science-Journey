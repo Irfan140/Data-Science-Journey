{
 "cells": [
  {
   "cell_type": "markdown",
   "id": "b725fff2-9092-47c3-aee9-59e01aeafb89",
   "metadata": {},
   "source": [
    "## Data Encoding\n",
    "\n",
    "1. Nominal/OHE Encoding\n",
    "2. Label and Ordinal Encoding\n",
    "3. Target Guided Ordinal Encoding "
   ]
  },
  {
   "cell_type": "markdown",
   "id": "8a8beb63-db1a-49db-b663-5b7893ab3f1f",
   "metadata": {},
   "source": [
    "### Nominal/OHE Encoding\n",
    "One hot encoding, also known as nominal encoding, is a technique used to represent categorical data as numerical data, which is more suitable for machine learning algorithms. In this technique, each category is represented as a binary vector where each bit corresponds to a unique category. For example, if we have a categorical variable \"color\" with three possible values (red, green, blue), we can represent it using one hot encoding as follows:\n",
    "\n",
    "1. Red: [1, 0, 0]\n",
    "2. Green: [0, 1, 0]\n",
    "3. Blue: [0, 0, 1]"
   ]
  },
  {
   "cell_type": "code",
   "execution_count": 1,
   "id": "776cce0a-4c44-4d32-b4af-d466c6c0a145",
   "metadata": {},
   "outputs": [],
   "source": [
    "import pandas as pd\n",
    "from sklearn.preprocessing import OneHotEncoder"
   ]
  },
  {
   "cell_type": "code",
   "execution_count": 2,
   "id": "ce14529b-1029-429e-89bf-46af0ad6eb90",
   "metadata": {},
   "outputs": [],
   "source": [
    "## Create a simple dataframe \n",
    "df = pd.DataFrame({\n",
    "    'color': ['red', 'blue', 'green', 'green', 'red', 'blue']\n",
    "})"
   ]
  },
  {
   "cell_type": "code",
   "execution_count": null,
   "id": "92ea0409-6533-49ac-b967-256b5ffd059f",
   "metadata": {},
   "outputs": [],
   "source": [
    "df.head()"
   ]
  },
  {
   "cell_type": "code",
   "execution_count": 8,
   "id": "a0a31d7e-204e-461c-8767-75059c022180",
   "metadata": {},
   "outputs": [],
   "source": [
    "##create an instance of Onehotencoder\n",
    "encoder=OneHotEncoder()"
   ]
  },
  {
   "cell_type": "code",
   "execution_count": 7,
   "id": "b91291e1-e221-45c9-af5b-147eee3e86e7",
   "metadata": {},
   "outputs": [],
   "source": [
    "## perform fit and transform\n",
    "encoded=encoder.fit_transform(df[['color']]).toarray()"
   ]
  },
  {
   "cell_type": "code",
   "execution_count": 5,
   "id": "e56961e3-ca2e-4bbe-bfea-8b7cea6e4a46",
   "metadata": {},
   "outputs": [],
   "source": [
    "import pandas as pd\n",
    "encoder_df=pd.DataFrame(encoded,columns=encoder.get_feature_names_out())"
   ]
  },
  {
   "cell_type": "code",
   "execution_count": null,
   "id": "95df0e6f-fa4e-496f-9c50-5f941c39ab66",
   "metadata": {},
   "outputs": [],
   "source": [
    "encoder_df"
   ]
  },
  {
   "cell_type": "code",
   "execution_count": null,
   "id": "71b9e570-3529-422c-8cb9-19a630b48907",
   "metadata": {},
   "outputs": [],
   "source": [
    "## for new data\n",
    "encoder.transform([['blue']]).toarray()"
   ]
  },
  {
   "cell_type": "code",
   "execution_count": null,
   "id": "a219dc14-529b-4077-aa42-4cd7e3f43498",
   "metadata": {},
   "outputs": [],
   "source": [
    "pd.concat([df,encoder_df],axis=1)"
   ]
  },
  {
   "cell_type": "code",
   "execution_count": null,
   "id": "57f83007-e989-4d67-a172-005170225536",
   "metadata": {},
   "outputs": [],
   "source": [
    "# Assignment\n",
    "import seaborn as sns\n",
    "sns.load_dataset('tips')"
   ]
  },
  {
   "cell_type": "markdown",
   "id": "10ef53b5-92e3-49e5-8d25-3d65b623c339",
   "metadata": {},
   "source": [
    "### Label Encoding \n",
    "Label encoding and ordinal encoding are two techniques used to encode categorical data as numerical data.\n",
    "\n",
    "Label encoding involves assigning a unique numerical label to each category in the variable. The labels are usually assigned in alphabetical order or based on the frequency of the categories. For example, if we have a categorical variable \"color\" with three possible values (red, green, blue), we can represent it using label encoding as follows:\n",
    "\n",
    "1. Red: 1\n",
    "2. Green: 2\n",
    "3. Blue: 3"
   ]
  },
  {
   "cell_type": "code",
   "execution_count": null,
   "id": "89703e0a-f3cf-4c22-9e76-9ff47e44d4a5",
   "metadata": {},
   "outputs": [],
   "source": [
    "df.head()"
   ]
  },
  {
   "cell_type": "code",
   "execution_count": 14,
   "id": "9c734d4b-9c75-4eae-b4e3-bf615b373f27",
   "metadata": {},
   "outputs": [],
   "source": [
    "from sklearn.preprocessing import LabelEncoder\n",
    "lbl_encoder=LabelEncoder()"
   ]
  },
  {
   "cell_type": "code",
   "execution_count": null,
   "id": "5d005085-bfce-4174-8cec-15bd09bb9012",
   "metadata": {},
   "outputs": [],
   "source": [
    "lbl_encoder.fit_transform(df[['color']])"
   ]
  },
  {
   "cell_type": "code",
   "execution_count": null,
   "id": "ec8ae604-50e5-4b20-9dab-ce09415d2b61",
   "metadata": {},
   "outputs": [],
   "source": [
    "lbl_encoder.transform([['red']])"
   ]
  },
  {
   "cell_type": "code",
   "execution_count": null,
   "id": "3a9b072a-8e93-4351-9129-6572f1baac51",
   "metadata": {},
   "outputs": [],
   "source": [
    "lbl_encoder.transform([['blue']])"
   ]
  },
  {
   "cell_type": "code",
   "execution_count": null,
   "id": "53ddbfcd-ab44-4991-b27a-35f0d4c9888e",
   "metadata": {},
   "outputs": [],
   "source": [
    "lbl_encoder.transform([['green']])"
   ]
  },
  {
   "cell_type": "markdown",
   "id": "92a8de31-97d9-415a-bce5-598027452be7",
   "metadata": {},
   "source": [
    "### Ordinal Encoding\n",
    "It is used to encode categorical data that have an intrinsic order or ranking. In this technique, each category is assigned a numerical value based on its position in the order. For example, if we have a categorical variable \"education level\" with four possible values (high school, college, graduate, post-graduate), we can represent it using ordinal encoding as follows:\n",
    "\n",
    "1. High school: 1\n",
    "2. College: 2\n",
    "3. Graduate: 3\n",
    "4. Post-graduate: 4"
   ]
  },
  {
   "cell_type": "code",
   "execution_count": 19,
   "id": "310afa03-31ee-445e-8bcd-1fc96e97ea3d",
   "metadata": {},
   "outputs": [],
   "source": [
    "## ORdinal Encoding\n",
    "from sklearn.preprocessing import OrdinalEncoder"
   ]
  },
  {
   "cell_type": "code",
   "execution_count": 20,
   "id": "5e7c6056-96bc-446d-9e36-0c12fe9f8d05",
   "metadata": {},
   "outputs": [],
   "source": [
    "# create a sample dataframe with an ordinal variable\n",
    "df = pd.DataFrame({\n",
    "    'size': ['small', 'medium', 'large', 'medium', 'small', 'large']\n",
    "})"
   ]
  },
  {
   "cell_type": "code",
   "execution_count": null,
   "id": "c2ccbda4-b944-480b-aed9-4c3ed45dda48",
   "metadata": {},
   "outputs": [],
   "source": [
    "df"
   ]
  },
  {
   "cell_type": "code",
   "execution_count": 22,
   "id": "fd325129-314b-40ef-9807-ffb15607d71f",
   "metadata": {},
   "outputs": [],
   "source": [
    "## create an instance of ORdinalEncoder and then fit_transform\n",
    "encoder=OrdinalEncoder(categories=[['small','medium','large']])"
   ]
  },
  {
   "cell_type": "code",
   "execution_count": null,
   "id": "ba2d1b4d-b22f-431a-b625-cf32aa7ee1aa",
   "metadata": {},
   "outputs": [],
   "source": [
    "encoder.fit_transform(df[['size']])"
   ]
  },
  {
   "cell_type": "code",
   "execution_count": null,
   "id": "f6bdced6-51ee-4808-8619-870242553062",
   "metadata": {},
   "outputs": [],
   "source": [
    "encoder.transform([['small']])"
   ]
  }
 ],
 "metadata": {
  "kernelspec": {
   "display_name": "Python 3",
   "language": "python",
   "name": "python3"
  },
  "language_info": {
   "codemirror_mode": {
    "name": "ipython",
    "version": 3
   },
   "file_extension": ".py",
   "mimetype": "text/x-python",
   "name": "python",
   "nbconvert_exporter": "python",
   "pygments_lexer": "ipython3",
   "version": "3.12.0"
  }
 },
 "nbformat": 4,
 "nbformat_minor": 5
}
