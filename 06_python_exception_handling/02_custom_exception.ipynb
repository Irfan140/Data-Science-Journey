{
 "cells": [
  {
   "cell_type": "markdown",
   "metadata": {},
   "source": [
    "### Custom Exception (Raise and Throw exception)"
   ]
  },
  {
   "cell_type": "code",
   "execution_count": null,
   "metadata": {},
   "outputs": [],
   "source": [
    "# Define a custom exception class\n",
    "class CustomException(Exception):\n",
    "    def __init__(self, message):\n",
    "        super().__init__(message)\n",
    "\n",
    "# Function to demonstrate the custom exception\n",
    "def demonstrate_custom_exception(value):\n",
    "    try:\n",
    "        if value < 0:\n",
    "            # Raise the custom exception with a message\n",
    "            raise CustomException(\"Negative values are not allowed!\")\n",
    "        elif value == 0:\n",
    "            # Raise a built-in ValueError for zero\n",
    "            raise ValueError(\"Value cannot be zero!\")\n",
    "        else:\n",
    "            print(f\"Value is acceptable: {value}\")\n",
    "    except CustomException as ce:\n",
    "        print(f\"CustomException caught: {ce}\")\n",
    "    except ValueError as ve:\n",
    "        print(f\"ValueError caught: {ve}\")\n",
    "    finally:\n",
    "        print(\"Execution completed.\")\n",
    "\n",
    "# Test the function with different values\n",
    "demonstrate_custom_exception(-5)  # Triggers CustomException\n",
    "demonstrate_custom_exception(0)   # Triggers ValueError\n",
    "demonstrate_custom_exception(10)  # Valid case\n"
   ]
  },
  {
   "cell_type": "markdown",
   "metadata": {},
   "source": [
    "#### video was not working so wrote it from chat gpt"
   ]
  }
 ],
 "metadata": {
  "kernelspec": {
   "display_name": "Python 3",
   "language": "python",
   "name": "python3"
  },
  "language_info": {
   "codemirror_mode": {
    "name": "ipython",
    "version": 3
   },
   "file_extension": ".py",
   "mimetype": "text/x-python",
   "name": "python",
   "nbconvert_exporter": "python",
   "pygments_lexer": "ipython3",
   "version": "3.12.0"
  }
 },
 "nbformat": 4,
 "nbformat_minor": 2
}
