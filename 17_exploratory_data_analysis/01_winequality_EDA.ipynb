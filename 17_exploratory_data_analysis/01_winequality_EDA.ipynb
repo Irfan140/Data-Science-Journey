{
 "cells": [
  {
   "cell_type": "markdown",
   "id": "2d36c492-a469-4aff-91f3-f07ed9f37061",
   "metadata": {},
   "source": [
    "## EDA With Red Wine Data\n",
    "\n",
    "Data Set Information:\n",
    "\n",
    "The two datasets are related to red and white variants of the Portuguese \"Vinho Verde\" wine.  Due to privacy and logistic issues, only physicochemical (inputs) and sensory (the output) variables are available (e.g. there is no data about grape types, wine brand, wine selling price, etc.).\n",
    "\n",
    "These datasets can be viewed as classification or regression tasks. The classes are ordered and not balanced (e.g. there are many more normal wines than excellent or poor ones). Outlier detection algorithms could be used to detect the few excellent or poor wines. Also, we are not sure if all input variables are relevant. So it could be interesting to test feature selection methods.\n",
    "\n",
    "\n",
    "Attribute Information:\n",
    "\n",
    "Input variables (based on physicochemical tests):\n",
    "- 1 - fixed acidity\n",
    "- 2 - volatile acidity\n",
    "- 3 - citric acid\n",
    "- 4 - residual sugar\n",
    "- 5 - chlorides\n",
    "- 6 - free sulfur dioxide\n",
    "- 7 - total sulfur dioxide\n",
    "- 8 - density\n",
    "- 9 - pH\n",
    "- 10 - sulphates\n",
    "- 11 - alcohol\n",
    "\n",
    "Output variable (based on sensory data):\n",
    "- 12 - quality (score between 0 and 10)"
   ]
  },
  {
   "cell_type": "code",
   "execution_count": null,
   "id": "e51ab101",
   "metadata": {},
   "outputs": [],
   "source": [
    "# EDA is all about undestanding the data given dataset"
   ]
  },
  {
   "cell_type": "code",
   "execution_count": null,
   "id": "c8d02062-750a-4926-948c-b9678f894304",
   "metadata": {},
   "outputs": [],
   "source": [
    "import pandas as pd\n",
    "df=pd.read_csv('winequality-red.csv')\n",
    "df.head()"
   ]
  },
  {
   "cell_type": "code",
   "execution_count": null,
   "id": "351e7faf-6921-49d7-8f5c-6bae2f49fe81",
   "metadata": {},
   "outputs": [],
   "source": [
    "## Summary of the dataset\n",
    "df.info()"
   ]
  },
  {
   "cell_type": "code",
   "execution_count": null,
   "id": "c73da8b6-7451-4cb0-9b99-8416be452dd8",
   "metadata": {},
   "outputs": [],
   "source": [
    "## descriptive summary of the dataset\n",
    "df.describe()"
   ]
  },
  {
   "cell_type": "code",
   "execution_count": null,
   "id": "3716058f-1f00-471b-92dd-1de22c1a556b",
   "metadata": {},
   "outputs": [],
   "source": [
    "# to get no. of rows and columns\n",
    "df.shape"
   ]
  },
  {
   "cell_type": "code",
   "execution_count": null,
   "id": "5f4c5754-20e2-4b88-877f-aa47e167998b",
   "metadata": {},
   "outputs": [],
   "source": [
    "## List down all the columns names\n",
    "df.columns"
   ]
  },
  {
   "cell_type": "code",
   "execution_count": null,
   "id": "d57fafbd-1873-4042-b646-1b791ba1f5ac",
   "metadata": {},
   "outputs": [],
   "source": [
    "df['quality'].unique()"
   ]
  },
  {
   "cell_type": "code",
   "execution_count": null,
   "id": "8d6767a0-8b28-4b5a-b55c-3d281c8aeecf",
   "metadata": {},
   "outputs": [],
   "source": [
    "## Checking if there is any  Missing values in the dataset\n",
    "\n",
    "df.isnull().sum()"
   ]
  },
  {
   "cell_type": "code",
   "execution_count": null,
   "id": "239e2586-37c0-48f1-b963-1bc0cb27d51c",
   "metadata": {},
   "outputs": [],
   "source": [
    "## Checking if there is any Duplicate records\n",
    "# df[df.duplicated()] is used to identify and display duplicate rows in your DataFrame df\n",
    "df[df.duplicated()]\n",
    "\n",
    "'''\n",
    "df.duplicated(): Returns a boolean Series where True indicates that a row is a duplicate of a previous row.\n",
    "df[df.duplicated()]: Filters and shows only the rows that are duplicates.\n",
    "Pandas compares entire rows. A row is marked as a duplicate if every value in that row matches exactly with a previous row.\n",
    "'''"
   ]
  },
  {
   "cell_type": "code",
   "execution_count": 9,
   "id": "6bf34094-67cb-432a-a30e-befced1eb3db",
   "metadata": {},
   "outputs": [],
   "source": [
    "## Remove the duplicates\n",
    "df.drop_duplicates(inplace=True)"
   ]
  },
  {
   "cell_type": "code",
   "execution_count": null,
   "id": "52151c60-86c8-4a37-b3e1-b5b8f632f8cb",
   "metadata": {},
   "outputs": [],
   "source": [
    "df.shape"
   ]
  },
  {
   "cell_type": "code",
   "execution_count": null,
   "id": "c3fef853-d711-4acb-a25a-ced22f204761",
   "metadata": {},
   "outputs": [],
   "source": [
    "## Correlation\n",
    "df.corr()"
   ]
  },
  {
   "cell_type": "code",
   "execution_count": null,
   "id": "e4410dc5-62aa-4382-97ad-04fe0ad9afa1",
   "metadata": {},
   "outputs": [],
   "source": [
    "import matplotlib.pyplot as plt\n",
    "import seaborn as sns\n",
    "plt.figure(figsize=(10,6)) # This sets the size of the plot to 10 inches wide and 6 inches tall.\n",
    "sns.heatmap(df.corr(),annot=True) # The annot=True argument displays the actual correlation numbers inside each cell of the heatmap."
   ]
  },
  {
   "cell_type": "code",
   "execution_count": null,
   "id": "b02a3390-62fd-4fd1-9bdb-c9e88bf0a07a",
   "metadata": {},
   "outputs": [],
   "source": [
    "## Visualization\n",
    "#conclusion- It is an imbalanced dataset\n",
    "df.quality.value_counts().plot(kind='bar')\n",
    "plt.xlabel(\"Wine Quality\")\n",
    "plt.ylabel(\"Count\")\n",
    "plt.show()\n",
    "\n",
    "'''\n",
    "df.quality.value_counts()\n",
    "Counts how many times each unique quality score appears in the dataset.\n",
    "\n",
    ".plot(kind='bar')\n",
    "Creates a bar chart to visualize the frequency of each wine quality score.\n",
    "\n",
    "'''"
   ]
  },
  {
   "cell_type": "code",
   "execution_count": null,
   "id": "3691c095-0618-4f6a-a12e-ccec64536bbe",
   "metadata": {},
   "outputs": [],
   "source": [
    "df.head()"
   ]
  },
  {
   "cell_type": "code",
   "execution_count": null,
   "id": "ff6e80f0-0cac-4ff1-929d-123b42d71bae",
   "metadata": {},
   "outputs": [],
   "source": [
    "for column in df.columns:\n",
    "    sns.histplot(df[column],kde=True)\n",
    "\n",
    "'''\n",
    " is looping through each column in the DataFrame and plotting a histogram with a Kernel Density Estimate (KDE) for each. This is a great way to explore the distribution of each feature in your dataset during Exploratory Data Analysis (EDA).\n",
    "\n",
    "\n",
    "'''"
   ]
  },
  {
   "cell_type": "code",
   "execution_count": null,
   "id": "345b2d62-e4cf-4884-9827-3b9ab95512af",
   "metadata": {},
   "outputs": [],
   "source": [
    "sns.histplot(df['alcohol'])\n",
    "plt.title('Distribution of Alcohol Content in Red Wine')\n",
    "plt.xlabel('Alcohol %')\n",
    "plt.ylabel('Frequency')\n",
    "plt.show()"
   ]
  },
  {
   "cell_type": "code",
   "execution_count": null,
   "id": "201a3995-231c-4a51-87c4-8511a4f4487c",
   "metadata": {},
   "outputs": [],
   "source": [
    "#univariate,bivariate,multivariate analysis\n",
    "sns.pairplot(df)"
   ]
  },
  {
   "cell_type": "code",
   "execution_count": null,
   "id": "c239985d-223a-4b85-8768-3650963633f3",
   "metadata": {},
   "outputs": [],
   "source": [
    "##categorical Plot\n",
    "sns.catplot(x='quality', y='alcohol', data=df, kind=\"box\")\n",
    "\n",
    "'''\n",
    "X-axis (quality):\n",
    "Different wine quality ratings (e.g., 3, 4, 5, 6, 7, 8).\n",
    "\n",
    "Y-axis (alcohol):\n",
    "The percentage of alcohol in the wines.\n",
    "\n",
    "Box Plot Details:\n",
    "\n",
    "The box shows the interquartile range (IQR), which contains the middle 50% of alcohol values.\n",
    "The line inside the box represents the median alcohol content for that quality rating.\n",
    "The whiskers extend to show the rest of the distribution, except for outliers.\n",
    "Dots outside the whiskers are outliers, indicating wines with unusually high or low alcohol content for that quality rating.\n",
    "'''"
   ]
  },
  {
   "cell_type": "code",
   "execution_count": null,
   "id": "9e7473fd-128c-422e-b98a-8a2bc6773705",
   "metadata": {},
   "outputs": [],
   "source": [
    "df.head()"
   ]
  },
  {
   "cell_type": "code",
   "execution_count": null,
   "id": "336d496b-ba18-43ae-b04b-0ebfb938e96e",
   "metadata": {},
   "outputs": [],
   "source": [
    "sns.scatterplot(x='alcohol',y='pH',hue='quality',data=df)"
   ]
  }
 ],
 "metadata": {
  "kernelspec": {
   "display_name": "Python 3",
   "language": "python",
   "name": "python3"
  },
  "language_info": {
   "codemirror_mode": {
    "name": "ipython",
    "version": 3
   },
   "file_extension": ".py",
   "mimetype": "text/x-python",
   "name": "python",
   "nbconvert_exporter": "python",
   "pygments_lexer": "ipython3",
   "version": "3.12.0"
  }
 },
 "nbformat": 4,
 "nbformat_minor": 5
}
