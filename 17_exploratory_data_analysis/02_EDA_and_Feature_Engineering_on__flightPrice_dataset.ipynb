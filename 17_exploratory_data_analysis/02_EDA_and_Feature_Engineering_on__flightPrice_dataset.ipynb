{
 "cells": [
  {
   "cell_type": "markdown",
   "id": "22e18be7-7bc7-45d1-b579-ea3ea6ad72e1",
   "metadata": {},
   "source": [
    "## EDA And Feature Engineering Flight Price Prediction\n",
    "check the dataset info below\n",
    "https://www.kaggle.com/datasets/shubhambathwal/flight-price-prediction"
   ]
  },
  {
   "cell_type": "markdown",
   "id": "df0fac68-30e2-4846-9be0-5abb71f32e23",
   "metadata": {},
   "source": [
    "### FEATURES\n",
    "The various features of the cleaned dataset are explained below:\n",
    "---\n",
    "1) Airline: The name of the airline company is stored in the airline column. It is a categorical feature having 6 different airlines.\n",
    "2) Flight: Flight stores information regarding the plane's flight code. It is a categorical feature.\n",
    "3) Source City: City from which the flight takes off. It is a categorical feature having 6 unique cities.\n",
    "4) Departure Time: This is a derived categorical feature obtained created by grouping time periods into bins. It stores information about the departure time and have 6 unique time labels.\n",
    "5) Stops: A categorical feature with 3 distinct values that stores the number of stops between the source and destination cities.\n",
    "6) Arrival Time: This is a derived categorical feature created by grouping time intervals into bins. It has six distinct time labels and keeps information about the arrival time.\n",
    "7) Destination City: City where the flight will land. It is a categorical feature having 6 unique cities.\n",
    "8) Class: A categorical feature that contains information on seat class; it has two distinct values: Business and Economy.\n",
    "9) Duration: A continuous feature that displays the overall amount of time it takes to travel between cities in hours.\n",
    "10) Days Left: This is a derived characteristic that is calculated by subtracting the trip date by the booking date.\n",
    "11) Price: Target variable stores information of the ticket price."
   ]
  },
  {
   "cell_type": "code",
   "execution_count": 1,
   "id": "94034679-215b-4075-a18b-c902cca0ab0f",
   "metadata": {},
   "outputs": [],
   "source": [
    "#importing basics libraries\n",
    "import pandas as pd\n",
    "import numpy as np\n",
    "import matplotlib.pyplot as plt\n",
    "import seaborn as sns\n",
    "%matplotlib inline"
   ]
  },
  {
   "cell_type": "code",
   "execution_count": null,
   "id": "b9fa5789-8b53-4ba8-9f15-e641108f8a1e",
   "metadata": {},
   "outputs": [],
   "source": [
    "df=pd.read_excel('flight_price.xlsx')\n",
    "df.head()"
   ]
  },
  {
   "cell_type": "code",
   "execution_count": null,
   "id": "dfd19f7e-3de6-4f72-9324-e72f267d6f14",
   "metadata": {},
   "outputs": [],
   "source": [
    "df.tail()"
   ]
  },
  {
   "cell_type": "code",
   "execution_count": null,
   "id": "8e4606b5-fa39-414f-9e49-633a5a1ea867",
   "metadata": {},
   "outputs": [],
   "source": [
    "## get the basics info about data\n",
    "df.info()"
   ]
  },
  {
   "cell_type": "code",
   "execution_count": null,
   "id": "c3db8edb-0d59-496f-b58a-bbf1192d207d",
   "metadata": {},
   "outputs": [],
   "source": [
    "df.describe()"
   ]
  },
  {
   "cell_type": "code",
   "execution_count": null,
   "id": "c1b5dded-5220-4eb2-9539-0f0af82a4811",
   "metadata": {},
   "outputs": [],
   "source": [
    "df.head()"
   ]
  },
  {
   "cell_type": "code",
   "execution_count": 7,
   "id": "04bab008-1052-4776-8929-12b8c0e95fa5",
   "metadata": {},
   "outputs": [],
   "source": [
    "## Feature Engineering\n",
    "df['Date']=df['Date_of_Journey'].str.split('/').str[0]\n",
    "df['Month']=df['Date_of_Journey'].str.split('/').str[1]\n",
    "df['Year']=df['Date_of_Journey'].str.split('/').str[2]"
   ]
  },
  {
   "cell_type": "code",
   "execution_count": null,
   "id": "3edf1804-e3f9-42d2-945f-5ce23434ee7a",
   "metadata": {},
   "outputs": [],
   "source": [
    "df.info()"
   ]
  },
  {
   "cell_type": "code",
   "execution_count": 9,
   "id": "c1e3c658-a6b8-4156-9dfa-f3a7d4c69894",
   "metadata": {},
   "outputs": [],
   "source": [
    "df['Date']=df['Date'].astype(int)\n",
    "df['Month']=df['Month'].astype(int)\n",
    "df['Year']=df['Year'].astype(int)"
   ]
  },
  {
   "cell_type": "code",
   "execution_count": null,
   "id": "afa6a575-1780-4a5b-8297-5e34069b2abc",
   "metadata": {},
   "outputs": [],
   "source": [
    "df.info()"
   ]
  },
  {
   "cell_type": "code",
   "execution_count": 11,
   "id": "ed012cc7-4111-40d9-ba57-27d15dab076a",
   "metadata": {},
   "outputs": [],
   "source": [
    "## Drop Date Of Journey\n",
    "\n",
    "df.drop('Date_of_Journey',axis=1,inplace=True)"
   ]
  },
  {
   "cell_type": "code",
   "execution_count": null,
   "id": "ffd19f78-cd89-4cd3-bddf-db6c4f9e635f",
   "metadata": {},
   "outputs": [],
   "source": [
    "df.head()"
   ]
  },
  {
   "cell_type": "code",
   "execution_count": 13,
   "id": "3dbfcc10-3cc4-44cb-8ad8-7ec8b2160b80",
   "metadata": {},
   "outputs": [],
   "source": [
    "df['Arrival_Time']=df['Arrival_Time'].apply(lambda x:x.split(' ')[0])"
   ]
  },
  {
   "cell_type": "code",
   "execution_count": null,
   "id": "bba4949b",
   "metadata": {},
   "outputs": [],
   "source": [
    "df.head()"
   ]
  },
  {
   "cell_type": "code",
   "execution_count": 15,
   "id": "f07f4e94-3ec3-4695-a653-1548a3c69301",
   "metadata": {},
   "outputs": [],
   "source": [
    "df['Arrival_hour']=df['Arrival_Time'].str.split(':').str[0]\n",
    "df['Arrival_min']=df['Arrival_Time'].str.split(':').str[1]"
   ]
  },
  {
   "cell_type": "code",
   "execution_count": null,
   "id": "3b494b11-056a-4356-8ec6-ee7fd76d19f3",
   "metadata": {},
   "outputs": [],
   "source": [
    "df.head(2)"
   ]
  },
  {
   "cell_type": "code",
   "execution_count": null,
   "id": "e6c197aa",
   "metadata": {},
   "outputs": [],
   "source": [
    "df.info()"
   ]
  },
  {
   "cell_type": "code",
   "execution_count": 21,
   "id": "cb83d0da-79db-46cd-bbf5-334f9eae5646",
   "metadata": {},
   "outputs": [],
   "source": [
    "df['Arrival_hour']=df['Arrival_hour'].astype(int)\n",
    "df['Arrival_min']=df['Arrival_min'].astype(int)"
   ]
  },
  {
   "cell_type": "code",
   "execution_count": 22,
   "id": "b6f30eab-d90b-4a42-bcaf-40e64ee6be3f",
   "metadata": {},
   "outputs": [],
   "source": [
    "df.drop('Arrival_Time',axis=1,inplace=True)"
   ]
  },
  {
   "cell_type": "code",
   "execution_count": null,
   "id": "e5d74968-c61d-4ede-9a5a-b564b2d03ff4",
   "metadata": {},
   "outputs": [],
   "source": [
    "df.head(2)"
   ]
  },
  {
   "cell_type": "code",
   "execution_count": 24,
   "id": "22f23815-14f6-4bed-a8fd-ab2fdd4ce345",
   "metadata": {},
   "outputs": [],
   "source": [
    "df['Departure_hour']=df['Dep_Time'].str.split(':').str[0]\n",
    "df['Departure_min']=df['Dep_Time'].str.split(':').str[1]"
   ]
  },
  {
   "cell_type": "code",
   "execution_count": 25,
   "id": "f26c68be-81da-4a22-bf11-2e3db86ec54b",
   "metadata": {},
   "outputs": [],
   "source": [
    "df['Departure_hour']=df['Departure_hour'].astype(int)\n",
    "df['Departure_min']=df['Departure_min'].astype(int)"
   ]
  },
  {
   "cell_type": "code",
   "execution_count": null,
   "id": "c9e39e8e-4464-490f-8ddb-9cdf01792747",
   "metadata": {},
   "outputs": [],
   "source": [
    "df.info()"
   ]
  },
  {
   "cell_type": "code",
   "execution_count": 27,
   "id": "5e04eefe-7238-45e9-9c71-430df88dcb2d",
   "metadata": {},
   "outputs": [],
   "source": [
    "df.drop('Dep_Time',axis=1,inplace=True)"
   ]
  },
  {
   "cell_type": "code",
   "execution_count": null,
   "id": "818b7425-fb7f-4855-b2a5-db404aff40b7",
   "metadata": {},
   "outputs": [],
   "source": [
    "df.head(2)"
   ]
  },
  {
   "cell_type": "code",
   "execution_count": null,
   "id": "000c12b8-95f8-4d2c-821f-e14a86859b98",
   "metadata": {},
   "outputs": [],
   "source": [
    "df['Total_Stops'].unique()"
   ]
  },
  {
   "cell_type": "code",
   "execution_count": null,
   "id": "b5b91ce0-de65-44b6-88a9-37128642e1fc",
   "metadata": {},
   "outputs": [],
   "source": [
    "df[df['Total_Stops'].isnull()]\n",
    "# is used to filter rows in your DataFrame df where the Total_Stops column has missing values (NaN)."
   ]
  },
  {
   "cell_type": "code",
   "execution_count": null,
   "id": "61d04c1c-42a4-478a-a1c3-81111207cfaa",
   "metadata": {},
   "outputs": [],
   "source": [
    "df['Total_Stops'].mode()\n",
    "# is used to find the mode (the most frequent value) of the Total_Stops column in your DataFrame df."
   ]
  },
  {
   "cell_type": "code",
   "execution_count": null,
   "id": "b5ca2eda-eea8-436b-82ef-a167a9e45db4",
   "metadata": {},
   "outputs": [],
   "source": [
    "df['Total_Stops'].unique()"
   ]
  },
  {
   "cell_type": "code",
   "execution_count": 35,
   "id": "d2a66e9b-30a4-4d16-bf35-403cd2691fe6",
   "metadata": {},
   "outputs": [],
   "source": [
    "df['Total_Stops']=df['Total_Stops'].map({'non-stop':0,'1 stop':1,'2 stops':2,'3 stops':3,'4 stops':4,np.nan:1})\n",
    "# is used for mapping categorical values in the Total_Stops column to numerical values.\n",
    "# For any missing values (np.nan), the code replaces them with 1."
   ]
  },
  {
   "cell_type": "code",
   "execution_count": null,
   "id": "68d27293-62af-45ca-a245-fec163c42ae7",
   "metadata": {},
   "outputs": [],
   "source": [
    "df[df['Total_Stops'].isnull()]"
   ]
  },
  {
   "cell_type": "code",
   "execution_count": null,
   "id": "370129d8-a523-4ee7-b82a-d9285aff6ca2",
   "metadata": {},
   "outputs": [],
   "source": [
    "df.head(2)"
   ]
  },
  {
   "cell_type": "code",
   "execution_count": 40,
   "id": "1eb61003-c5b1-4d40-ae51-ec17a957539e",
   "metadata": {},
   "outputs": [],
   "source": [
    "df.drop('Route',axis=1,inplace=True)"
   ]
  },
  {
   "cell_type": "code",
   "execution_count": null,
   "id": "ee4cb2bb-ce84-4479-b1b9-192646454ded",
   "metadata": {},
   "outputs": [],
   "source": [
    "df.head(2)"
   ]
  },
  {
   "cell_type": "code",
   "execution_count": null,
   "id": "26e70cbc-9e16-4db9-8266-940d44091123",
   "metadata": {},
   "outputs": [],
   "source": [
    "df['Duration'].str.split(' ').str[0].str.split('h').str[0]"
   ]
  },
  {
   "cell_type": "code",
   "execution_count": null,
   "id": "4461044c-f7b4-4e95-8629-75237804eeb9",
   "metadata": {},
   "outputs": [],
   "source": [
    "df['Airline'].unique()"
   ]
  },
  {
   "cell_type": "code",
   "execution_count": null,
   "id": "965fc7d0-ada9-4b7d-9364-2cd03ef08a15",
   "metadata": {},
   "outputs": [],
   "source": [
    "df['Source'].unique()"
   ]
  },
  {
   "cell_type": "code",
   "execution_count": null,
   "id": "1970ee5f-d267-4740-878c-da8301e27219",
   "metadata": {},
   "outputs": [],
   "source": [
    "df['Additional_Info'].unique()"
   ]
  },
  {
   "cell_type": "code",
   "execution_count": 46,
   "id": "8748f205-e7df-459f-8bec-ca0e8bd702d1",
   "metadata": {},
   "outputs": [],
   "source": [
    "from sklearn.preprocessing import OneHotEncoder"
   ]
  },
  {
   "cell_type": "code",
   "execution_count": 47,
   "id": "add23c6a-8d5f-46b3-9a15-cb5f11cada84",
   "metadata": {},
   "outputs": [],
   "source": [
    "encoder=OneHotEncoder()"
   ]
  },
  {
   "cell_type": "code",
   "execution_count": null,
   "id": "a2106d38-642a-48db-8f3f-e0f1377259d8",
   "metadata": {},
   "outputs": [],
   "source": [
    "encoder.fit_transform(df[['Airline','Source','Destination']]).toarray()\n",
    "# is using label encoding (or one-hot encoding) to transform the categorical columns (Airline, Source, Destination) into numerical values, where the .fit_transform() function applies the transformation and .toarray() converts the output into an array format."
   ]
  },
  {
   "cell_type": "code",
   "execution_count": null,
   "id": "d4b43d63-8645-46fe-837b-8de780017572",
   "metadata": {},
   "outputs": [],
   "source": [
    "pd.DataFrame(encoder.fit_transform(df[['Airline','Source','Destination']]).toarray(),columns=encoder.get_feature_names_out())\n",
    "# is used to perform One-Hot Encoding on the categorical columns Airline, Source, and Destination in your DataFrame df, and convert the resulting encoded data into a new DataFrame with proper column names."
   ]
  }
 ],
 "metadata": {
  "kernelspec": {
   "display_name": "Python 3",
   "language": "python",
   "name": "python3"
  },
  "language_info": {
   "codemirror_mode": {
    "name": "ipython",
    "version": 3
   },
   "file_extension": ".py",
   "mimetype": "text/x-python",
   "name": "python",
   "nbconvert_exporter": "python",
   "pygments_lexer": "ipython3",
   "version": "3.12.0"
  }
 },
 "nbformat": 4,
 "nbformat_minor": 5
}
