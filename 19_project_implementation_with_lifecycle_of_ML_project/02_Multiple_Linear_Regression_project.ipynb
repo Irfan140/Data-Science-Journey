{
 "cells": [
  {
   "cell_type": "markdown",
   "id": "f694259c-4307-41a7-8308-4dc1d6848b40",
   "metadata": {},
   "source": [
    "## Multiple Linear Regression"
   ]
  },
  {
   "cell_type": "code",
   "execution_count": 3,
   "id": "9cd4279c-6c16-4988-8a9b-52c0f9858ced",
   "metadata": {},
   "outputs": [],
   "source": [
    "from sklearn.datasets import fetch_california_housing"
   ]
  },
  {
   "cell_type": "code",
   "execution_count": 4,
   "id": "e95d23c1-2e1e-4729-a314-e23566c7d88b",
   "metadata": {},
   "outputs": [],
   "source": [
    "import pandas as pd\n",
    "import numpy as np\n",
    "import seaborn as sns\n",
    "import matplotlib.pyplot as plt\n",
    "%matplotlib inline"
   ]
  },
  {
   "cell_type": "code",
   "execution_count": null,
   "id": "b904512c-e3c4-40ad-875f-b912cc4ab1ea",
   "metadata": {},
   "outputs": [],
   "source": [
    "california=fetch_california_housing()"
   ]
  },
  {
   "cell_type": "code",
   "execution_count": null,
   "id": "c61e8177-75e2-4fd5-b73d-cee014dff0e2",
   "metadata": {},
   "outputs": [],
   "source": [
    "california"
   ]
  },
  {
   "cell_type": "code",
   "execution_count": null,
   "id": "af5d2da1-0456-48d1-a40c-2f6cf8b65b4f",
   "metadata": {},
   "outputs": [],
   "source": [
    "# california is a dictionary ...so we are finding the keys\n",
    "california.keys()"
   ]
  },
  {
   "cell_type": "code",
   "execution_count": null,
   "id": "0d13a5b7-a939-472e-9537-bf81953004b5",
   "metadata": {},
   "outputs": [],
   "source": [
    "print(california.DESCR)"
   ]
  },
  {
   "cell_type": "code",
   "execution_count": null,
   "id": "bbb56d45-c716-4bcf-8dc8-42a7ec3a1f91",
   "metadata": {},
   "outputs": [],
   "source": [
    "california.target_names\n"
   ]
  },
  {
   "cell_type": "code",
   "execution_count": null,
   "id": "943f69c6-4c5a-4965-a245-d7477421d7ed",
   "metadata": {},
   "outputs": [],
   "source": [
    "print(california.data)"
   ]
  },
  {
   "cell_type": "code",
   "execution_count": null,
   "id": "73ff15fc-7b5f-4960-b528-9305b009bbb0",
   "metadata": {},
   "outputs": [],
   "source": [
    "print(california.target)"
   ]
  },
  {
   "cell_type": "code",
   "execution_count": null,
   "id": "de504dc6-b5e2-4866-abea-8389878080ff",
   "metadata": {},
   "outputs": [],
   "source": [
    "california.feature_names"
   ]
  },
  {
   "cell_type": "code",
   "execution_count": null,
   "id": "082b14ff-5e14-43ca-bb80-2bd8df26f00f",
   "metadata": {},
   "outputs": [],
   "source": [
    "## Lets prepare the dataframe \n",
    "dataset=pd.DataFrame(california.data,columns=california.feature_names)\n",
    "dataset.head()"
   ]
  },
  {
   "cell_type": "code",
   "execution_count": 14,
   "id": "ad33ade8-2c39-4c44-a667-84a11002edba",
   "metadata": {},
   "outputs": [],
   "source": [
    "dataset['Price']=california.target"
   ]
  },
  {
   "cell_type": "code",
   "execution_count": null,
   "id": "a5e8f25b-d3f1-485c-9553-a0b9634d03ef",
   "metadata": {},
   "outputs": [],
   "source": [
    "dataset.head()"
   ]
  },
  {
   "cell_type": "code",
   "execution_count": null,
   "id": "6fd23cb1-83a5-4c37-8850-ccc903a751db",
   "metadata": {},
   "outputs": [],
   "source": [
    "dataset.info()"
   ]
  },
  {
   "cell_type": "code",
   "execution_count": null,
   "id": "2290863d-28db-44e0-b2c6-3de687549dd4",
   "metadata": {},
   "outputs": [],
   "source": [
    "dataset.isnull().sum()"
   ]
  },
  {
   "cell_type": "code",
   "execution_count": null,
   "id": "68c9e9b9-4c6a-41ff-a237-750cf06fb6cf",
   "metadata": {},
   "outputs": [],
   "source": [
    "dataset.describe()"
   ]
  },
  {
   "cell_type": "code",
   "execution_count": null,
   "id": "c5977aac-45d5-40b5-bd81-b811dacdcf60",
   "metadata": {},
   "outputs": [],
   "source": [
    "dataset.corr()"
   ]
  },
  {
   "cell_type": "code",
   "execution_count": null,
   "id": "0cf55835-6098-4f13-85b6-1ae54bca5bb0",
   "metadata": {},
   "outputs": [],
   "source": [
    "import seaborn as sns\n",
    "sns.heatmap(dataset.corr(),annot=True)"
   ]
  },
  {
   "cell_type": "code",
   "execution_count": null,
   "id": "7624160b-54f9-460d-bd25-49cf297f21be",
   "metadata": {},
   "outputs": [],
   "source": [
    "dataset.head()"
   ]
  },
  {
   "cell_type": "code",
   "execution_count": 22,
   "id": "a8f28947-66d7-4e44-b266-8825a011fb9a",
   "metadata": {},
   "outputs": [],
   "source": [
    "## Independent and Dependent features\n",
    "X=dataset.iloc[:,:-1] #independent features\n",
    "y=dataset.iloc[:,-1] #dependent features"
   ]
  },
  {
   "cell_type": "code",
   "execution_count": null,
   "id": "e15e5f68-1dbf-43c4-bb62-cbdc96f04493",
   "metadata": {},
   "outputs": [],
   "source": [
    "X.head()"
   ]
  },
  {
   "cell_type": "code",
   "execution_count": null,
   "id": "a873fe74",
   "metadata": {},
   "outputs": [],
   "source": [
    "y.head()"
   ]
  },
  {
   "cell_type": "code",
   "execution_count": 25,
   "id": "decbcfb9-4a7d-4c48-9533-a4c969872ed5",
   "metadata": {},
   "outputs": [],
   "source": [
    "from sklearn.model_selection import train_test_split\n",
    "X_train, X_test, y_train, y_test = train_test_split(X, y, test_size=0.33, random_state=10)"
   ]
  },
  {
   "cell_type": "code",
   "execution_count": null,
   "id": "3d8fe5c6-8fcc-459b-b86f-976223b32f6c",
   "metadata": {},
   "outputs": [],
   "source": [
    "X_train.shape,y_train.shape,X_test.shape,y_test.shape"
   ]
  },
  {
   "cell_type": "code",
   "execution_count": 27,
   "id": "ec128337-aa55-48c1-a781-164904c68042",
   "metadata": {},
   "outputs": [],
   "source": [
    "from sklearn.preprocessing import StandardScaler\n",
    "scaler=StandardScaler()"
   ]
  },
  {
   "cell_type": "code",
   "execution_count": 28,
   "id": "6d4ee5c5-9484-48f5-bb63-f88b50266370",
   "metadata": {},
   "outputs": [],
   "source": [
    "X_train=scaler.fit_transform(X_train)\n",
    "X_test=scaler.transform(X_test)"
   ]
  },
  {
   "cell_type": "code",
   "execution_count": null,
   "id": "3eb43348-8a37-42e5-b3ce-61130b0f1cd5",
   "metadata": {},
   "outputs": [],
   "source": [
    "X_train"
   ]
  },
  {
   "cell_type": "code",
   "execution_count": null,
   "id": "16f631d7-c65c-4fb4-aadd-f41d78987f24",
   "metadata": {},
   "outputs": [],
   "source": [
    "X_test"
   ]
  },
  {
   "cell_type": "markdown",
   "id": "810311ad-d58b-4653-a087-48793a885ed6",
   "metadata": {},
   "source": [
    "## Model Training"
   ]
  },
  {
   "cell_type": "code",
   "execution_count": 31,
   "id": "d91fa718-c553-49de-b5e2-d5cb9c8fe96f",
   "metadata": {},
   "outputs": [],
   "source": [
    "from sklearn.linear_model import LinearRegression"
   ]
  },
  {
   "cell_type": "code",
   "execution_count": 32,
   "id": "853c1148-597e-4987-93da-5c4ee1e82de9",
   "metadata": {},
   "outputs": [],
   "source": [
    "regression=LinearRegression()"
   ]
  },
  {
   "cell_type": "code",
   "execution_count": null,
   "id": "77b144fc-a8a7-42d2-a226-c7849731f26b",
   "metadata": {},
   "outputs": [],
   "source": [
    "regression"
   ]
  },
  {
   "cell_type": "code",
   "execution_count": null,
   "id": "49b5aef7-6819-449d-86af-7ce367369350",
   "metadata": {},
   "outputs": [],
   "source": [
    "regression.fit(X_train,y_train)"
   ]
  },
  {
   "cell_type": "code",
   "execution_count": null,
   "id": "9c3df1ed-65df-4627-bcd1-bc8b6d95a896",
   "metadata": {},
   "outputs": [],
   "source": [
    "## slope or coefficients\n",
    "regression.coef_"
   ]
  },
  {
   "cell_type": "code",
   "execution_count": null,
   "id": "97ed7277-ee77-4095-81fa-08c5e79086c9",
   "metadata": {},
   "outputs": [],
   "source": [
    "## intercepts\n",
    "regression.intercept_"
   ]
  },
  {
   "cell_type": "code",
   "execution_count": 37,
   "id": "d833f173-aa82-49a3-840e-49b3e6293d5d",
   "metadata": {},
   "outputs": [],
   "source": [
    "## Prediction for the test data\n",
    "y_pred=regression.predict(X_test)"
   ]
  },
  {
   "cell_type": "code",
   "execution_count": null,
   "id": "7c9e261f-b1ed-4c70-ac12-2bb5b6320138",
   "metadata": {},
   "outputs": [],
   "source": [
    "y_test"
   ]
  },
  {
   "cell_type": "code",
   "execution_count": null,
   "id": "220c9734-0adc-4100-a70a-8dd50db6f505",
   "metadata": {},
   "outputs": [],
   "source": [
    "y_pred"
   ]
  },
  {
   "cell_type": "code",
   "execution_count": null,
   "id": "f0c7e1af-42ed-4169-9ce6-bd5defe2a949",
   "metadata": {},
   "outputs": [],
   "source": [
    "## Performance Metrics\n",
    "from sklearn.metrics import mean_squared_error\n",
    "from sklearn.metrics import mean_absolute_error\n",
    "print(mean_squared_error(y_test,y_pred))\n",
    "print(mean_absolute_error(y_test,y_pred))\n",
    "print(np.sqrt(mean_squared_error(y_test,y_pred)))"
   ]
  },
  {
   "cell_type": "code",
   "execution_count": null,
   "id": "f1375ecf-d7ee-4a92-b9a0-e5f5bf52e1e4",
   "metadata": {},
   "outputs": [],
   "source": [
    "## R square and adjusted R square\n",
    "\n",
    "from sklearn.metrics import r2_score\n",
    "score=r2_score(y_test,y_pred)\n",
    "print(score)"
   ]
  },
  {
   "cell_type": "code",
   "execution_count": null,
   "id": "33f1e94e-95c1-4b3b-a4a7-731e29ff03c1",
   "metadata": {},
   "outputs": [],
   "source": [
    "## Adjusted R square\n",
    "#display adjusted R-squared\n",
    "1 - (1-score)*(len(y_test)-1)/(len(y_test)-X_test.shape[1]-1)"
   ]
  },
  {
   "cell_type": "markdown",
   "id": "2c654d81-941f-4ac0-9020-125c16187c12",
   "metadata": {},
   "source": [
    "##### In order know to understand wheather our prediction is good or not there are some assumptions\n",
    "---\n",
    "1) If i try to plot my y_test and my y_pred then more we have linear property more good will be the model\n",
    "2) Caalculate the residuals i.e (y_test - y_pred) and plot it in a dist plot ...if i get a normal distribution then yes the model is perorming well\n",
    "3) If i plot residulas with the y_pred..then if the graph is a uniform distribution (there will be no pattern in graph) then our model is performing well"
   ]
  },
  {
   "cell_type": "code",
   "execution_count": null,
   "id": "c702c246-7146-4443-b095-59e819a41220",
   "metadata": {},
   "outputs": [],
   "source": [
    "plt.scatter(y_test,y_pred)\n",
    "plt.xlabel(\"Test Truth Data\")\n",
    "plt.ylabel(\"Test Predicted Data\")"
   ]
  },
  {
   "cell_type": "code",
   "execution_count": 44,
   "id": "aa1c8339-2ffa-41c9-9124-c0a576f31f41",
   "metadata": {},
   "outputs": [],
   "source": [
    "residuals=y_test-y_pred"
   ]
  },
  {
   "cell_type": "code",
   "execution_count": null,
   "id": "2dd2adcd-4c5f-42d8-a3cc-9b6a80015500",
   "metadata": {},
   "outputs": [],
   "source": [
    "residuals"
   ]
  },
  {
   "cell_type": "code",
   "execution_count": null,
   "id": "f2220dac-5922-4189-9f88-c560e211c987",
   "metadata": {},
   "outputs": [],
   "source": [
    "sns.displot(residuals,kind=\"kde\")"
   ]
  },
  {
   "cell_type": "code",
   "execution_count": null,
   "id": "1eaf7e3c-abf4-41f8-b4c7-1d79b282b6b8",
   "metadata": {},
   "outputs": [],
   "source": [
    "## SCatter plot with predictions and residual\n",
    "##uniform distribution\n",
    "plt.scatter(y_pred,residuals)"
   ]
  },
  {
   "cell_type": "code",
   "execution_count": null,
   "id": "54a269c1-c347-483e-a8d1-03b9f70c7e43",
   "metadata": {},
   "outputs": [],
   "source": [
    "regression"
   ]
  },
  {
   "cell_type": "markdown",
   "id": "59f052b5-5a80-4688-b536-38ef05d00da8",
   "metadata": {},
   "source": [
    "## Pickling \n",
    "Python pickle module is used for serialising and de-serialising a Python object structure. Any object in Python can be pickled so that it can be saved on disk. What pickle does is that it “serialises” the object first before writing it to file. Pickling is a way to convert a python object (list, dict, etc.) into a character stream. The idea is that this character stream contains all the information necessary to reconstruct the object in another python script."
   ]
  },
  {
   "cell_type": "code",
   "execution_count": 49,
   "id": "abe35992-304f-4548-b3a2-bb180a1cf656",
   "metadata": {},
   "outputs": [],
   "source": [
    "import pickle\n",
    "pickle.dump(regression,open('regressor.pkl','wb'))\n",
    "#  creating a pickle file for my model which will be in the serialised format "
   ]
  },
  {
   "cell_type": "code",
   "execution_count": 50,
   "id": "20f1c387-931a-4197-8f51-b3860a5e15a0",
   "metadata": {},
   "outputs": [],
   "source": [
    "model=pickle.load(open('regressor.pkl','rb'))\n",
    "# loading my pickle to the model"
   ]
  },
  {
   "cell_type": "code",
   "execution_count": null,
   "id": "39f4ff2b-c076-4d2d-ae9f-eb31c2438d5b",
   "metadata": {},
   "outputs": [],
   "source": [
    "model.predict(X_test)"
   ]
  }
 ],
 "metadata": {
  "kernelspec": {
   "display_name": "Python 3",
   "language": "python",
   "name": "python3"
  },
  "language_info": {
   "codemirror_mode": {
    "name": "ipython",
    "version": 3
   },
   "file_extension": ".py",
   "mimetype": "text/x-python",
   "name": "python",
   "nbconvert_exporter": "python",
   "pygments_lexer": "ipython3",
   "version": "3.12.0"
  }
 },
 "nbformat": 4,
 "nbformat_minor": 5
}
